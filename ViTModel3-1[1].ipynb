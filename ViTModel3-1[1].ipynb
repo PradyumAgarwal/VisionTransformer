{
  "cells": [
    {
      "cell_type": "code",
      "execution_count": 13,
      "metadata": {
        "id": "EDckDCqoJHcw"
      },
      "outputs": [],
      "source": [
        "import torch\n",
        "import torchvision\n",
        "import torchvision.transforms as transforms\n",
        "import torch.nn as nn\n",
        "import torch.nn.functional as F\n",
        "import numpy as np\n",
        "import matplotlib.pyplot as plt\n",
        "from tqdm import tqdm\n",
        "\n",
        "device = torch.device(\"cuda\" if torch.cuda.is_available() else \"cpu\")"
      ]
    },
    {
      "cell_type": "code",
      "execution_count": 14,
      "metadata": {},
      "outputs": [
        {
          "data": {
            "text/plain": [
              "device(type='cuda')"
            ]
          },
          "execution_count": 14,
          "metadata": {},
          "output_type": "execute_result"
        }
      ],
      "source": [
        "device"
      ]
    },
    {
      "cell_type": "code",
      "execution_count": 15,
      "metadata": {
        "colab": {
          "base_uri": "https://localhost:8080/"
        },
        "id": "FU5lM8m-JKt5",
        "outputId": "65204db7-7217-438a-d58b-ce0c270aef96"
      },
      "outputs": [
        {
          "name": "stdout",
          "output_type": "stream",
          "text": [
            "Downloading https://www.cs.toronto.edu/~kriz/cifar-10-python.tar.gz to ./data\\cifar-10-python.tar.gz\n"
          ]
        },
        {
          "name": "stderr",
          "output_type": "stream",
          "text": [
            "100%|██████████| 170498071/170498071 [22:01<00:00, 129014.29it/s] \n"
          ]
        },
        {
          "name": "stdout",
          "output_type": "stream",
          "text": [
            "Extracting ./data\\cifar-10-python.tar.gz to ./data\n",
            "Files already downloaded and verified\n"
          ]
        }
      ],
      "source": [
        "transform = transforms.Compose(\n",
        "    [transforms.Resize(32),  # Resizing to 32x32\n",
        "     transforms.ToTensor(),\n",
        "     transforms.Normalize((0.5, 0.5, 0.5), (0.5, 0.5, 0.5))])\n",
        "\n",
        "batch_size = 4\n",
        "\n",
        "trainset = torchvision.datasets.CIFAR10(root='./data', train=True,\n",
        "                                        download=True, transform=transform)\n",
        "trainloader = torch.utils.data.DataLoader(trainset, batch_size=batch_size,\n",
        "                                          shuffle=True, num_workers=2)\n",
        "\n",
        "testset = torchvision.datasets.CIFAR10(root='./data', train=False,\n",
        "                                       download=True, transform=transform)\n",
        "testloader = torch.utils.data.DataLoader(testset, batch_size=batch_size,\n",
        "                                         shuffle=False, num_workers=2)\n",
        "\n",
        "classes = ('plane', 'car', 'bird', 'cat',\n",
        "           'deer', 'dog', 'frog', 'horse', 'ship', 'truck')"
      ]
    },
    {
      "cell_type": "code",
      "execution_count": 16,
      "metadata": {
        "id": "GQn9t-lmJNrB"
      },
      "outputs": [],
      "source": [
        "def position_embedding_layer(num_patches, embedding_dimension, batch_size):\n",
        "    result = torch.ones(num_patches + 1, embedding_dimension)  # Add 1 for the class token\n",
        "    result = result.to(\"cuda\")\n",
        "    for i in range(num_patches + 1):  # Add 1 for the class token\n",
        "        for j in range(embedding_dimension):\n",
        "            if j % 2 == 0:\n",
        "                result[i][j] = (np.sin(i / (10000 ** (j / embedding_dimension))))\n",
        "            else:\n",
        "                result[i][j] = np.cos(i / (10000 ** ((j - 1) / embedding_dimension)))\n",
        "    result = result.unsqueeze(0).repeat(batch_size, 1, 1)\n",
        "    return result"
      ]
    },
    {
      "cell_type": "code",
      "execution_count": 17,
      "metadata": {
        "colab": {
          "base_uri": "https://localhost:8080/",
          "height": 210
        },
        "id": "VJeppMXDJQRP",
        "outputId": "ee6b6c49-19b2-4d6a-a7f0-2ec409cc3c5e"
      },
      "outputs": [
        {
          "data": {
            "image/png": "[encoded data removed]",
            "text/plain": [
              "<Figure size 640x480 with 1 Axes>"
            ]
          },
          "metadata": {},
          "output_type": "display_data"
        },
        {
          "name": "stdout",
          "output_type": "stream",
          "text": [
            "bird  truck car   cat  \n"
          ]
        }
      ],
      "source": [
        "def imshow(img):\n",
        "    img = img / 2 + 0.5     # unnormalize\n",
        "    npimg = img.numpy()\n",
        "    plt.imshow(np.transpose(npimg, (1, 2, 0)))\n",
        "    plt.show()\n",
        "\n",
        "dataiter = iter(trainloader)\n",
        "images, labels = next(dataiter)\n",
        "imshow(torchvision.utils.make_grid(images))\n",
        "print(' '.join(f'{classes[labels[j]]:5s}' for j in range(batch_size)))"
      ]
    },
    {
      "cell_type": "code",
      "execution_count": 18,
      "metadata": {
        "id": "cflFXueaJSaI"
      },
      "outputs": [],
      "source": [
        "class ConditionalPositionalEncoding(nn.Module):\n",
        "    def __init__(self, num_patches, embed_size, num_features):\n",
        "        super(ConditionalPositionalEncoding, self).__init__()\n",
        "        self.num_patches = num_patches\n",
        "        self.embed_size = embed_size\n",
        "        self.num_features = num_features\n",
        "        self.fc = nn.Linear(num_features, embed_size).to(device)\n",
        "        self.pos_embedding = nn.Parameter(torch.randn(1, num_patches + 1, embed_size)).to(device)\n",
        "\n",
        "    def forward(self, features):\n",
        "        features = features.to(device)\n",
        "        cond_embedding = self.fc(features)\n",
        "        pos_embedding = self.pos_embedding.expand(features.size(0), -1, -1)\n",
        "        combined_embedding = torch.cat([pos_embedding, cond_embedding.unsqueeze(1)], dim=1)\n",
        "        return combined_embedding\n",
        "\n",
        "def patchify(images, num_of_patches):\n",
        "    batch_size, channels, height, width = images.shape\n",
        "\n",
        "    assert height == width, \"Patchify method is implemented for square images only\"\n",
        "\n",
        "    height_per_patch = height // num_of_patches\n",
        "    width_per_patch = width // num_of_patches\n",
        "\n",
        "    patches = torch.zeros(batch_size, num_of_patches ** 2, channels, height_per_patch, width_per_patch)\n",
        "    patches = patches.to(device)\n",
        "\n",
        "    for idx, image in enumerate(images):\n",
        "        for i in range(num_of_patches):\n",
        "            for j in range(num_of_patches):\n",
        "                patch = image[\n",
        "                    :,\n",
        "                    i * height_per_patch: (i + 1) * height_per_patch,\n",
        "                    j * width_per_patch: (j + 1) * width_per_patch,\n",
        "                ]\n",
        "                patches[idx, i * num_of_patches + j] = patch\n",
        "\n",
        "    return patches\n",
        "\n",
        "class Projection_Layer(nn.Module):\n",
        "    def __init__(self, num_patches, patch_size, in_channels, embed_size):\n",
        "        super(Projection_Layer, self).__init__()\n",
        "        self.num_patches = num_patches\n",
        "        self.layer_norm_1 = nn.LayerNorm(patch_size * patch_size * in_channels).to(device)\n",
        "        self.embed_layer = nn.Linear(patch_size * patch_size * in_channels, embed_size).to(device)\n",
        "        self.layer_norm_2 = nn.LayerNorm(embed_size).to(device)\n",
        "\n",
        "    def forward(self, x):\n",
        "        x = x.to(device)\n",
        "        b, _, c, _, _ = x.shape\n",
        "        x = x.permute(0, 1, 3, 4, 2)\n",
        "        x = x.contiguous()\n",
        "        x = x.view(b, self.num_patches, -1)\n",
        "        x = self.layer_norm_1(x)\n",
        "        x = self.embed_layer(x)\n",
        "        x = self.layer_norm_2(x)\n",
        "\n",
        "        return x\n",
        "class Transformer_Block(nn.Module):\n",
        "    def __init__(self, num_heads,embed_size,hidden_dim,dropout):\n",
        "        super(Transformer_Block, self).__init__()\n",
        "\n",
        "        self.norm = nn.LayerNorm(embed_size).to(device)\n",
        "        self.attn = Attention(num_heads, embed_size)\n",
        "        self.MLP = nn.Sequential(\n",
        "            nn.LayerNorm(embed_size).to(device),\n",
        "            nn.Linear(embed_size, hidden_dim).to(device),\n",
        "            nn.GELU().to(device),\n",
        "            nn.Linear(hidden_dim, embed_size).to(device),\n",
        "            nn.Dropout(dropout).to(device)\n",
        "        ).to(device)\n",
        "    def forward(self,x):\n",
        "        x = x.to(device)\n",
        "        x = self.norm(x)\n",
        "        x = self.attn(x) + x\n",
        "        x = self.MLP(x) + x\n",
        "\n",
        "        return x\n",
        "\n",
        "class Attention(nn.Module):\n",
        "    def __init__(self, num_heads, embed_size):\n",
        "        super(Attention, self).__init__()\n",
        "\n",
        "        eff_embed_size = embed_size // num_heads\n",
        "        self.num_heads = num_heads\n",
        "        self.Q_matrix = nn.Linear(eff_embed_size, eff_embed_size).to(device)\n",
        "        self.K_matrix = nn.Linear(eff_embed_size, eff_embed_size).to(device)\n",
        "        self.V_matrix = nn.Linear(eff_embed_size, eff_embed_size).to(device)\n",
        "        self.temperature = eff_embed_size ** 0.5\n",
        "\n",
        "    def forward(self, x):\n",
        "        x = x.to(device)\n",
        "        bs, n_1, embed_dim = x.shape\n",
        "        x = x.view(bs, self.num_heads, n_1, embed_dim // self.num_heads)\n",
        "        q = self.Q_matrix(x)\n",
        "        k = self.K_matrix(x)\n",
        "        v = self.V_matrix(x)\n",
        "\n",
        "        attention = nn.Softmax(dim=-1).to(device)(torch.matmul(q, k.transpose(-1, -2))) / self.temperature\n",
        "        x = torch.matmul(attention, v)\n",
        "        x = x.view(bs, n_1, embed_dim)\n",
        "        return x\n",
        "\n",
        "\n",
        "class Vision_Transformer(nn.Module):\n",
        "    def __init__(self, image_size=32, in_channels=3, patch_size=8, embed_size=192, hidden_dim=768, num_heads=8,\n",
        "                 num_layers=12, dropout=0.01, num_of_patches=4):\n",
        "        super(Vision_Transformer, self).__init__()\n",
        "\n",
        "        self.num_patches = (image_size // patch_size) ** 2\n",
        "        self.embed_size = embed_size\n",
        "        self.num_heads = num_heads\n",
        "        self.patch_size = patch_size\n",
        "        self.in_channels = in_channels\n",
        "\n",
        "        self.projection_layer = Projection_Layer(self.num_patches, patch_size, in_channels, embed_size)\n",
        "\n",
        "        self.cls_token = nn.Parameter(torch.randn(1, 1, embed_size)).to(device)\n",
        "        self.pos_emb = position_embedding_layer(self.num_patches, embed_size, 1)\n",
        "\n",
        "        self.layers = nn.Sequential(*[Transformer_Block(num_heads, embed_size, hidden_dim, dropout)\n",
        "                                      for _ in range(num_layers)]).to(device)\n",
        "\n",
        "        self.clf_head = nn.Linear(embed_size, 10).to(device)\n",
        "\n",
        "    def forward(self, x):\n",
        "        x = x.to(device)\n",
        "        bs, _, _, _ = x.shape\n",
        "        x = patchify(x, int(self.num_patches ** 0.5))\n",
        "        x = self.projection_layer(x)\n",
        "\n",
        "        cls_token = self.cls_token.expand(bs, -1, -1)\n",
        "        x = torch.cat([cls_token, x], dim=1)\n",
        "\n",
        "        x = x + self.pos_emb\n",
        "\n",
        "        for layer in self.layers:\n",
        "            x = layer(x)\n",
        "\n",
        "        x = self.clf_head(x[:, 0, :])\n",
        "        return x\n",
        "\n"
      ]
    },
    {
      "cell_type": "code",
      "execution_count": 19,
      "metadata": {
        "id": "LSoRglQPJgVg"
      },
      "outputs": [],
      "source": [
        "net = Vision_Transformer()\n",
        "net = net.to(device)\n"
      ]
    },
    {
      "cell_type": "code",
      "execution_count": 20,
      "metadata": {
        "id": "8qRNB5Z8JliA"
      },
      "outputs": [],
      "source": [
        "criterion = nn.CrossEntropyLoss().to(device)\n",
        "optimizer = torch.optim.SGD(net.parameters(), lr=0.001, momentum=0.9)"
      ]
    },
    {
      "cell_type": "code",
      "execution_count": 21,
      "metadata": {
        "colab": {
          "base_uri": "https://localhost:8080/"
        },
        "id": "Pw6-PrD8JoUw",
        "outputId": "c85569cc-fc0b-485f-9f77-510a5c3ebd0e"
      },
      "outputs": [
        {
          "name": "stderr",
          "output_type": "stream",
          "text": [
            "2005it [01:15, 26.06it/s]"
          ]
        },
        {
          "name": "stdout",
          "output_type": "stream",
          "text": [
            "[1,  2000] loss: 2.173\n"
          ]
        },
        {
          "name": "stderr",
          "output_type": "stream",
          "text": [
            "4005it [02:30, 28.10it/s]"
          ]
        },
        {
          "name": "stdout",
          "output_type": "stream",
          "text": [
            "[1,  4000] loss: 2.075\n"
          ]
        },
        {
          "name": "stderr",
          "output_type": "stream",
          "text": [
            "6003it [03:46, 25.55it/s]"
          ]
        },
        {
          "name": "stdout",
          "output_type": "stream",
          "text": [
            "[1,  6000] loss: 2.051\n"
          ]
        },
        {
          "name": "stderr",
          "output_type": "stream",
          "text": [
            "8005it [05:01, 29.13it/s]"
          ]
        },
        {
          "name": "stdout",
          "output_type": "stream",
          "text": [
            "[1,  8000] loss: 2.035\n"
          ]
        },
        {
          "name": "stderr",
          "output_type": "stream",
          "text": [
            "10005it [06:16, 25.91it/s]"
          ]
        },
        {
          "name": "stdout",
          "output_type": "stream",
          "text": [
            "[1, 10000] loss: 2.014\n"
          ]
        },
        {
          "name": "stderr",
          "output_type": "stream",
          "text": [
            "12002it [07:31, 25.62it/s]"
          ]
        },
        {
          "name": "stdout",
          "output_type": "stream",
          "text": [
            "[1, 12000] loss: 2.005\n"
          ]
        },
        {
          "name": "stderr",
          "output_type": "stream",
          "text": [
            "12500it [07:50, 26.57it/s]\n",
            "2005it [01:15, 28.47it/s]"
          ]
        },
        {
          "name": "stdout",
          "output_type": "stream",
          "text": [
            "[2,  2000] loss: 1.977\n"
          ]
        },
        {
          "name": "stderr",
          "output_type": "stream",
          "text": [
            "4002it [02:29, 25.17it/s]"
          ]
        },
        {
          "name": "stdout",
          "output_type": "stream",
          "text": [
            "[2,  4000] loss: 1.973\n"
          ]
        },
        {
          "name": "stderr",
          "output_type": "stream",
          "text": [
            "6005it [03:43, 28.06it/s]"
          ]
        },
        {
          "name": "stdout",
          "output_type": "stream",
          "text": [
            "[2,  6000] loss: 1.969\n"
          ]
        },
        {
          "name": "stderr",
          "output_type": "stream",
          "text": [
            "8006it [05:00, 28.56it/s]"
          ]
        },
        {
          "name": "stdout",
          "output_type": "stream",
          "text": [
            "[2,  8000] loss: 1.952\n"
          ]
        },
        {
          "name": "stderr",
          "output_type": "stream",
          "text": [
            "10004it [06:14, 27.21it/s]"
          ]
        },
        {
          "name": "stdout",
          "output_type": "stream",
          "text": [
            "[2, 10000] loss: 1.931\n"
          ]
        },
        {
          "name": "stderr",
          "output_type": "stream",
          "text": [
            "12005it [07:28, 29.02it/s]"
          ]
        },
        {
          "name": "stdout",
          "output_type": "stream",
          "text": [
            "[2, 12000] loss: 1.948\n"
          ]
        },
        {
          "name": "stderr",
          "output_type": "stream",
          "text": [
            "12500it [07:47, 26.73it/s]\n",
            "2005it [01:15, 29.18it/s]"
          ]
        },
        {
          "name": "stdout",
          "output_type": "stream",
          "text": [
            "[3,  2000] loss: 1.909\n"
          ]
        },
        {
          "name": "stderr",
          "output_type": "stream",
          "text": [
            "4002it [02:30, 26.53it/s]"
          ]
        },
        {
          "name": "stdout",
          "output_type": "stream",
          "text": [
            "[3,  4000] loss: 1.900\n"
          ]
        },
        {
          "name": "stderr",
          "output_type": "stream",
          "text": [
            "6003it [03:45, 29.28it/s]"
          ]
        },
        {
          "name": "stdout",
          "output_type": "stream",
          "text": [
            "[3,  6000] loss: 1.883\n"
          ]
        },
        {
          "name": "stderr",
          "output_type": "stream",
          "text": [
            "8004it [05:01, 28.94it/s]"
          ]
        },
        {
          "name": "stdout",
          "output_type": "stream",
          "text": [
            "[3,  8000] loss: 1.865\n"
          ]
        },
        {
          "name": "stderr",
          "output_type": "stream",
          "text": [
            "10003it [06:15, 26.86it/s]"
          ]
        },
        {
          "name": "stdout",
          "output_type": "stream",
          "text": [
            "[3, 10000] loss: 1.842\n"
          ]
        },
        {
          "name": "stderr",
          "output_type": "stream",
          "text": [
            "12004it [07:31, 26.37it/s]"
          ]
        },
        {
          "name": "stdout",
          "output_type": "stream",
          "text": [
            "[3, 12000] loss: 1.815\n"
          ]
        },
        {
          "name": "stderr",
          "output_type": "stream",
          "text": [
            "12500it [07:50, 26.59it/s]\n",
            "2004it [01:13, 27.79it/s]"
          ]
        },
        {
          "name": "stdout",
          "output_type": "stream",
          "text": [
            "[4,  2000] loss: 1.774\n"
          ]
        },
        {
          "name": "stderr",
          "output_type": "stream",
          "text": [
            "4004it [02:27, 29.16it/s]"
          ]
        },
        {
          "name": "stdout",
          "output_type": "stream",
          "text": [
            "[4,  4000] loss: 1.758\n"
          ]
        },
        {
          "name": "stderr",
          "output_type": "stream",
          "text": [
            "6005it [03:42, 26.42it/s]"
          ]
        },
        {
          "name": "stdout",
          "output_type": "stream",
          "text": [
            "[4,  6000] loss: 1.767\n"
          ]
        },
        {
          "name": "stderr",
          "output_type": "stream",
          "text": [
            "8004it [04:56, 24.76it/s]"
          ]
        },
        {
          "name": "stdout",
          "output_type": "stream",
          "text": [
            "[4,  8000] loss: 1.762\n"
          ]
        },
        {
          "name": "stderr",
          "output_type": "stream",
          "text": [
            "10003it [06:10, 26.34it/s]"
          ]
        },
        {
          "name": "stdout",
          "output_type": "stream",
          "text": [
            "[4, 10000] loss: 1.725\n"
          ]
        },
        {
          "name": "stderr",
          "output_type": "stream",
          "text": [
            "12005it [07:26, 25.93it/s]"
          ]
        },
        {
          "name": "stdout",
          "output_type": "stream",
          "text": [
            "[4, 12000] loss: 1.713\n"
          ]
        },
        {
          "name": "stderr",
          "output_type": "stream",
          "text": [
            "12500it [07:45, 26.86it/s]\n",
            "2004it [01:14, 26.26it/s]"
          ]
        },
        {
          "name": "stdout",
          "output_type": "stream",
          "text": [
            "[5,  2000] loss: 1.673\n"
          ]
        },
        {
          "name": "stderr",
          "output_type": "stream",
          "text": [
            "4003it [02:27, 28.88it/s]"
          ]
        },
        {
          "name": "stdout",
          "output_type": "stream",
          "text": [
            "[5,  4000] loss: 1.653\n"
          ]
        },
        {
          "name": "stderr",
          "output_type": "stream",
          "text": [
            "6003it [03:40, 27.17it/s]"
          ]
        },
        {
          "name": "stdout",
          "output_type": "stream",
          "text": [
            "[5,  6000] loss: 1.664\n"
          ]
        },
        {
          "name": "stderr",
          "output_type": "stream",
          "text": [
            "8004it [04:54, 26.44it/s]"
          ]
        },
        {
          "name": "stdout",
          "output_type": "stream",
          "text": [
            "[5,  8000] loss: 1.630\n"
          ]
        },
        {
          "name": "stderr",
          "output_type": "stream",
          "text": [
            "10003it [06:06, 28.96it/s]"
          ]
        },
        {
          "name": "stdout",
          "output_type": "stream",
          "text": [
            "[5, 10000] loss: 1.628\n"
          ]
        },
        {
          "name": "stderr",
          "output_type": "stream",
          "text": [
            "12005it [07:18, 28.76it/s]"
          ]
        },
        {
          "name": "stdout",
          "output_type": "stream",
          "text": [
            "[5, 12000] loss: 1.632\n"
          ]
        },
        {
          "name": "stderr",
          "output_type": "stream",
          "text": [
            "12500it [07:37, 27.34it/s]\n",
            "2005it [01:12, 27.85it/s]"
          ]
        },
        {
          "name": "stdout",
          "output_type": "stream",
          "text": [
            "[6,  2000] loss: 1.561\n"
          ]
        },
        {
          "name": "stderr",
          "output_type": "stream",
          "text": [
            "4004it [02:27, 27.20it/s]"
          ]
        },
        {
          "name": "stdout",
          "output_type": "stream",
          "text": [
            "[6,  4000] loss: 1.581\n"
          ]
        },
        {
          "name": "stderr",
          "output_type": "stream",
          "text": [
            "6003it [03:43, 27.14it/s]"
          ]
        },
        {
          "name": "stdout",
          "output_type": "stream",
          "text": [
            "[6,  6000] loss: 1.543\n"
          ]
        },
        {
          "name": "stderr",
          "output_type": "stream",
          "text": [
            "8004it [04:59, 27.24it/s]"
          ]
        },
        {
          "name": "stdout",
          "output_type": "stream",
          "text": [
            "[6,  8000] loss: 1.537\n"
          ]
        },
        {
          "name": "stderr",
          "output_type": "stream",
          "text": [
            "10004it [06:13, 26.83it/s]"
          ]
        },
        {
          "name": "stdout",
          "output_type": "stream",
          "text": [
            "[6, 10000] loss: 1.567\n"
          ]
        },
        {
          "name": "stderr",
          "output_type": "stream",
          "text": [
            "12003it [07:29, 23.90it/s]"
          ]
        },
        {
          "name": "stdout",
          "output_type": "stream",
          "text": [
            "[6, 12000] loss: 1.557\n"
          ]
        },
        {
          "name": "stderr",
          "output_type": "stream",
          "text": [
            "12500it [07:48, 26.68it/s]\n",
            "2004it [01:14, 27.50it/s]"
          ]
        },
        {
          "name": "stdout",
          "output_type": "stream",
          "text": [
            "[7,  2000] loss: 1.472\n"
          ]
        },
        {
          "name": "stderr",
          "output_type": "stream",
          "text": [
            "4004it [02:29, 25.18it/s]"
          ]
        },
        {
          "name": "stdout",
          "output_type": "stream",
          "text": [
            "[7,  4000] loss: 1.496\n"
          ]
        },
        {
          "name": "stderr",
          "output_type": "stream",
          "text": [
            "6004it [03:44, 26.14it/s]"
          ]
        },
        {
          "name": "stdout",
          "output_type": "stream",
          "text": [
            "[7,  6000] loss: 1.469\n"
          ]
        },
        {
          "name": "stderr",
          "output_type": "stream",
          "text": [
            "8003it [04:59, 26.50it/s]"
          ]
        },
        {
          "name": "stdout",
          "output_type": "stream",
          "text": [
            "[7,  8000] loss: 1.507\n"
          ]
        },
        {
          "name": "stderr",
          "output_type": "stream",
          "text": [
            "10004it [06:14, 27.38it/s]"
          ]
        },
        {
          "name": "stdout",
          "output_type": "stream",
          "text": [
            "[7, 10000] loss: 1.461\n"
          ]
        },
        {
          "name": "stderr",
          "output_type": "stream",
          "text": [
            "12005it [07:26, 30.47it/s]"
          ]
        },
        {
          "name": "stdout",
          "output_type": "stream",
          "text": [
            "[7, 12000] loss: 1.481\n"
          ]
        },
        {
          "name": "stderr",
          "output_type": "stream",
          "text": [
            "12500it [07:43, 26.95it/s]\n",
            "2005it [01:11, 29.88it/s]"
          ]
        },
        {
          "name": "stdout",
          "output_type": "stream",
          "text": [
            "[8,  2000] loss: 1.401\n"
          ]
        },
        {
          "name": "stderr",
          "output_type": "stream",
          "text": [
            "4002it [02:20, 25.54it/s]"
          ]
        },
        {
          "name": "stdout",
          "output_type": "stream",
          "text": [
            "[8,  4000] loss: 1.390\n"
          ]
        },
        {
          "name": "stderr",
          "output_type": "stream",
          "text": [
            "6005it [03:30, 29.72it/s]"
          ]
        },
        {
          "name": "stdout",
          "output_type": "stream",
          "text": [
            "[8,  6000] loss: 1.413\n"
          ]
        },
        {
          "name": "stderr",
          "output_type": "stream",
          "text": [
            "8003it [04:42, 25.56it/s]"
          ]
        },
        {
          "name": "stdout",
          "output_type": "stream",
          "text": [
            "[8,  8000] loss: 1.422\n"
          ]
        },
        {
          "name": "stderr",
          "output_type": "stream",
          "text": [
            "10006it [05:57, 25.77it/s]"
          ]
        },
        {
          "name": "stdout",
          "output_type": "stream",
          "text": [
            "[8, 10000] loss: 1.412\n"
          ]
        },
        {
          "name": "stderr",
          "output_type": "stream",
          "text": [
            "12006it [07:04, 30.14it/s]"
          ]
        },
        {
          "name": "stdout",
          "output_type": "stream",
          "text": [
            "[8, 12000] loss: 1.418\n"
          ]
        },
        {
          "name": "stderr",
          "output_type": "stream",
          "text": [
            "12500it [07:20, 28.35it/s]\n",
            "2003it [01:05, 28.99it/s]"
          ]
        },
        {
          "name": "stdout",
          "output_type": "stream",
          "text": [
            "[9,  2000] loss: 1.321\n"
          ]
        },
        {
          "name": "stderr",
          "output_type": "stream",
          "text": [
            "4004it [02:12, 32.12it/s]"
          ]
        },
        {
          "name": "stdout",
          "output_type": "stream",
          "text": [
            "[9,  4000] loss: 1.310\n"
          ]
        },
        {
          "name": "stderr",
          "output_type": "stream",
          "text": [
            "6004it [03:21, 28.79it/s]"
          ]
        },
        {
          "name": "stdout",
          "output_type": "stream",
          "text": [
            "[9,  6000] loss: 1.357\n"
          ]
        },
        {
          "name": "stderr",
          "output_type": "stream",
          "text": [
            "8003it [04:27, 29.54it/s]"
          ]
        },
        {
          "name": "stdout",
          "output_type": "stream",
          "text": [
            "[9,  8000] loss: 1.354\n"
          ]
        },
        {
          "name": "stderr",
          "output_type": "stream",
          "text": [
            "10004it [05:32, 32.03it/s]"
          ]
        },
        {
          "name": "stdout",
          "output_type": "stream",
          "text": [
            "[9, 10000] loss: 1.340\n"
          ]
        },
        {
          "name": "stderr",
          "output_type": "stream",
          "text": [
            "12003it [06:37, 31.96it/s]"
          ]
        },
        {
          "name": "stdout",
          "output_type": "stream",
          "text": [
            "[9, 12000] loss: 1.349\n"
          ]
        },
        {
          "name": "stderr",
          "output_type": "stream",
          "text": [
            "12500it [06:54, 30.14it/s]\n",
            "2003it [01:05, 31.69it/s]"
          ]
        },
        {
          "name": "stdout",
          "output_type": "stream",
          "text": [
            "[10,  2000] loss: 1.223\n"
          ]
        },
        {
          "name": "stderr",
          "output_type": "stream",
          "text": [
            "4003it [02:10, 30.96it/s]"
          ]
        },
        {
          "name": "stdout",
          "output_type": "stream",
          "text": [
            "[10,  4000] loss: 1.262\n"
          ]
        },
        {
          "name": "stderr",
          "output_type": "stream",
          "text": [
            "6002it [03:16, 31.02it/s]"
          ]
        },
        {
          "name": "stdout",
          "output_type": "stream",
          "text": [
            "[10,  6000] loss: 1.277\n"
          ]
        },
        {
          "name": "stderr",
          "output_type": "stream",
          "text": [
            "8003it [04:20, 31.40it/s]"
          ]
        },
        {
          "name": "stdout",
          "output_type": "stream",
          "text": [
            "[10,  8000] loss: 1.271\n"
          ]
        },
        {
          "name": "stderr",
          "output_type": "stream",
          "text": [
            "10004it [05:25, 31.00it/s]"
          ]
        },
        {
          "name": "stdout",
          "output_type": "stream",
          "text": [
            "[10, 10000] loss: 1.266\n"
          ]
        },
        {
          "name": "stderr",
          "output_type": "stream",
          "text": [
            "12004it [06:30, 31.71it/s]"
          ]
        },
        {
          "name": "stdout",
          "output_type": "stream",
          "text": [
            "[10, 12000] loss: 1.283\n"
          ]
        },
        {
          "name": "stderr",
          "output_type": "stream",
          "text": [
            "12500it [06:47, 30.67it/s]\n",
            "2005it [01:04, 30.70it/s]"
          ]
        },
        {
          "name": "stdout",
          "output_type": "stream",
          "text": [
            "[11,  2000] loss: 1.157\n"
          ]
        },
        {
          "name": "stderr",
          "output_type": "stream",
          "text": [
            "4006it [02:10, 29.47it/s]"
          ]
        },
        {
          "name": "stdout",
          "output_type": "stream",
          "text": [
            "[11,  4000] loss: 1.189\n"
          ]
        },
        {
          "name": "stderr",
          "output_type": "stream",
          "text": [
            "6006it [03:17, 30.46it/s]"
          ]
        },
        {
          "name": "stdout",
          "output_type": "stream",
          "text": [
            "[11,  6000] loss: 1.184\n"
          ]
        },
        {
          "name": "stderr",
          "output_type": "stream",
          "text": [
            "8006it [04:24, 30.47it/s]"
          ]
        },
        {
          "name": "stdout",
          "output_type": "stream",
          "text": [
            "[11,  8000] loss: 1.197\n"
          ]
        },
        {
          "name": "stderr",
          "output_type": "stream",
          "text": [
            "10002it [05:32, 25.62it/s]"
          ]
        },
        {
          "name": "stdout",
          "output_type": "stream",
          "text": [
            "[11, 10000] loss: 1.212\n"
          ]
        },
        {
          "name": "stderr",
          "output_type": "stream",
          "text": [
            "12006it [06:39, 30.78it/s]"
          ]
        },
        {
          "name": "stdout",
          "output_type": "stream",
          "text": [
            "[11, 12000] loss: 1.216\n"
          ]
        },
        {
          "name": "stderr",
          "output_type": "stream",
          "text": [
            "12500it [06:56, 30.02it/s]\n",
            "2004it [01:06, 31.88it/s]"
          ]
        },
        {
          "name": "stdout",
          "output_type": "stream",
          "text": [
            "[12,  2000] loss: 1.065\n"
          ]
        },
        {
          "name": "stderr",
          "output_type": "stream",
          "text": [
            "4006it [02:13, 31.59it/s]"
          ]
        },
        {
          "name": "stdout",
          "output_type": "stream",
          "text": [
            "[12,  4000] loss: 1.134\n"
          ]
        },
        {
          "name": "stderr",
          "output_type": "stream",
          "text": [
            "6004it [03:19, 27.94it/s]"
          ]
        },
        {
          "name": "stdout",
          "output_type": "stream",
          "text": [
            "[12,  6000] loss: 1.137\n"
          ]
        },
        {
          "name": "stderr",
          "output_type": "stream",
          "text": [
            "8004it [04:27, 31.09it/s]"
          ]
        },
        {
          "name": "stdout",
          "output_type": "stream",
          "text": [
            "[12,  8000] loss: 1.116\n"
          ]
        },
        {
          "name": "stderr",
          "output_type": "stream",
          "text": [
            "10004it [05:34, 29.00it/s]"
          ]
        },
        {
          "name": "stdout",
          "output_type": "stream",
          "text": [
            "[12, 10000] loss: 1.141\n"
          ]
        },
        {
          "name": "stderr",
          "output_type": "stream",
          "text": [
            "12004it [06:40, 28.56it/s]"
          ]
        },
        {
          "name": "stdout",
          "output_type": "stream",
          "text": [
            "[12, 12000] loss: 1.141\n"
          ]
        },
        {
          "name": "stderr",
          "output_type": "stream",
          "text": [
            "12500it [06:57, 29.92it/s]\n",
            "2006it [01:06, 31.94it/s]"
          ]
        },
        {
          "name": "stdout",
          "output_type": "stream",
          "text": [
            "[13,  2000] loss: 0.981\n"
          ]
        },
        {
          "name": "stderr",
          "output_type": "stream",
          "text": [
            "4004it [02:12, 28.70it/s]"
          ]
        },
        {
          "name": "stdout",
          "output_type": "stream",
          "text": [
            "[13,  4000] loss: 1.047\n"
          ]
        },
        {
          "name": "stderr",
          "output_type": "stream",
          "text": [
            "6004it [03:19, 31.39it/s]"
          ]
        },
        {
          "name": "stdout",
          "output_type": "stream",
          "text": [
            "[13,  6000] loss: 1.052\n"
          ]
        },
        {
          "name": "stderr",
          "output_type": "stream",
          "text": [
            "8003it [04:24, 28.89it/s]"
          ]
        },
        {
          "name": "stdout",
          "output_type": "stream",
          "text": [
            "[13,  8000] loss: 1.084\n"
          ]
        },
        {
          "name": "stderr",
          "output_type": "stream",
          "text": [
            "10005it [05:31, 30.23it/s]"
          ]
        },
        {
          "name": "stdout",
          "output_type": "stream",
          "text": [
            "[13, 10000] loss: 1.081\n"
          ]
        },
        {
          "name": "stderr",
          "output_type": "stream",
          "text": [
            "12005it [06:38, 29.12it/s]"
          ]
        },
        {
          "name": "stdout",
          "output_type": "stream",
          "text": [
            "[13, 12000] loss: 1.101\n"
          ]
        },
        {
          "name": "stderr",
          "output_type": "stream",
          "text": [
            "12500it [06:55, 30.11it/s]\n",
            "2006it [01:08, 31.72it/s]"
          ]
        },
        {
          "name": "stdout",
          "output_type": "stream",
          "text": [
            "[14,  2000] loss: 0.947\n"
          ]
        },
        {
          "name": "stderr",
          "output_type": "stream",
          "text": [
            "4003it [02:15, 30.46it/s]"
          ]
        },
        {
          "name": "stdout",
          "output_type": "stream",
          "text": [
            "[14,  4000] loss: 0.980\n"
          ]
        },
        {
          "name": "stderr",
          "output_type": "stream",
          "text": [
            "6003it [03:22, 31.12it/s]"
          ]
        },
        {
          "name": "stdout",
          "output_type": "stream",
          "text": [
            "[14,  6000] loss: 0.996\n"
          ]
        },
        {
          "name": "stderr",
          "output_type": "stream",
          "text": [
            "8003it [04:29, 31.68it/s]"
          ]
        },
        {
          "name": "stdout",
          "output_type": "stream",
          "text": [
            "[14,  8000] loss: 0.999\n"
          ]
        },
        {
          "name": "stderr",
          "output_type": "stream",
          "text": [
            "10006it [05:35, 31.36it/s]"
          ]
        },
        {
          "name": "stdout",
          "output_type": "stream",
          "text": [
            "[14, 10000] loss: 1.019\n"
          ]
        },
        {
          "name": "stderr",
          "output_type": "stream",
          "text": [
            "12006it [06:41, 31.01it/s]"
          ]
        },
        {
          "name": "stdout",
          "output_type": "stream",
          "text": [
            "[14, 12000] loss: 1.040\n"
          ]
        },
        {
          "name": "stderr",
          "output_type": "stream",
          "text": [
            "12500it [06:57, 29.93it/s]\n",
            "2003it [01:05, 29.87it/s]"
          ]
        },
        {
          "name": "stdout",
          "output_type": "stream",
          "text": [
            "[15,  2000] loss: 0.863\n"
          ]
        },
        {
          "name": "stderr",
          "output_type": "stream",
          "text": [
            "4006it [02:11, 32.65it/s]"
          ]
        },
        {
          "name": "stdout",
          "output_type": "stream",
          "text": [
            "[15,  4000] loss: 0.905\n"
          ]
        },
        {
          "name": "stderr",
          "output_type": "stream",
          "text": [
            "6005it [03:16, 31.92it/s]"
          ]
        },
        {
          "name": "stdout",
          "output_type": "stream",
          "text": [
            "[15,  6000] loss: 0.952\n"
          ]
        },
        {
          "name": "stderr",
          "output_type": "stream",
          "text": [
            "8004it [04:23, 31.34it/s]"
          ]
        },
        {
          "name": "stdout",
          "output_type": "stream",
          "text": [
            "[15,  8000] loss: 0.972\n"
          ]
        },
        {
          "name": "stderr",
          "output_type": "stream",
          "text": [
            "10005it [05:30, 24.52it/s]"
          ]
        },
        {
          "name": "stdout",
          "output_type": "stream",
          "text": [
            "[15, 10000] loss: 0.984\n"
          ]
        },
        {
          "name": "stderr",
          "output_type": "stream",
          "text": [
            "12002it [06:37, 27.91it/s]"
          ]
        },
        {
          "name": "stdout",
          "output_type": "stream",
          "text": [
            "[15, 12000] loss: 1.000\n"
          ]
        },
        {
          "name": "stderr",
          "output_type": "stream",
          "text": [
            "12500it [06:54, 30.14it/s]\n",
            "2006it [01:10, 29.55it/s]"
          ]
        },
        {
          "name": "stdout",
          "output_type": "stream",
          "text": [
            "[16,  2000] loss: 0.806\n"
          ]
        },
        {
          "name": "stderr",
          "output_type": "stream",
          "text": [
            "4003it [02:23, 25.95it/s]"
          ]
        },
        {
          "name": "stdout",
          "output_type": "stream",
          "text": [
            "[16,  4000] loss: 0.881\n"
          ]
        },
        {
          "name": "stderr",
          "output_type": "stream",
          "text": [
            "6003it [03:32, 28.76it/s]"
          ]
        },
        {
          "name": "stdout",
          "output_type": "stream",
          "text": [
            "[16,  6000] loss: 0.892\n"
          ]
        },
        {
          "name": "stderr",
          "output_type": "stream",
          "text": [
            "8005it [04:42, 28.81it/s]"
          ]
        },
        {
          "name": "stdout",
          "output_type": "stream",
          "text": [
            "[16,  8000] loss: 0.921\n"
          ]
        },
        {
          "name": "stderr",
          "output_type": "stream",
          "text": [
            "10004it [05:52, 30.51it/s]"
          ]
        },
        {
          "name": "stdout",
          "output_type": "stream",
          "text": [
            "[16, 10000] loss: 0.924\n"
          ]
        },
        {
          "name": "stderr",
          "output_type": "stream",
          "text": [
            "12003it [07:01, 26.52it/s]"
          ]
        },
        {
          "name": "stdout",
          "output_type": "stream",
          "text": [
            "[16, 12000] loss: 0.940\n"
          ]
        },
        {
          "name": "stderr",
          "output_type": "stream",
          "text": [
            "12500it [07:19, 28.47it/s]\n",
            "2006it [01:09, 29.96it/s]"
          ]
        },
        {
          "name": "stdout",
          "output_type": "stream",
          "text": [
            "[17,  2000] loss: 0.737\n"
          ]
        },
        {
          "name": "stderr",
          "output_type": "stream",
          "text": [
            "4004it [02:19, 25.92it/s]"
          ]
        },
        {
          "name": "stdout",
          "output_type": "stream",
          "text": [
            "[17,  4000] loss: 0.829\n"
          ]
        },
        {
          "name": "stderr",
          "output_type": "stream",
          "text": [
            "6005it [03:29, 29.47it/s]"
          ]
        },
        {
          "name": "stdout",
          "output_type": "stream",
          "text": [
            "[17,  6000] loss: 0.848\n"
          ]
        },
        {
          "name": "stderr",
          "output_type": "stream",
          "text": [
            "8004it [04:39, 30.29it/s]"
          ]
        },
        {
          "name": "stdout",
          "output_type": "stream",
          "text": [
            "[17,  8000] loss: 0.872\n"
          ]
        },
        {
          "name": "stderr",
          "output_type": "stream",
          "text": [
            "10003it [05:50, 28.28it/s]"
          ]
        },
        {
          "name": "stdout",
          "output_type": "stream",
          "text": [
            "[17, 10000] loss: 0.875\n"
          ]
        },
        {
          "name": "stderr",
          "output_type": "stream",
          "text": [
            "12003it [07:02, 29.01it/s]"
          ]
        },
        {
          "name": "stdout",
          "output_type": "stream",
          "text": [
            "[17, 12000] loss: 0.888\n"
          ]
        },
        {
          "name": "stderr",
          "output_type": "stream",
          "text": [
            "12500it [07:20, 28.37it/s]\n",
            "2005it [01:09, 26.06it/s]"
          ]
        },
        {
          "name": "stdout",
          "output_type": "stream",
          "text": [
            "[18,  2000] loss: 0.723\n"
          ]
        },
        {
          "name": "stderr",
          "output_type": "stream",
          "text": [
            "4003it [02:19, 29.93it/s]"
          ]
        },
        {
          "name": "stdout",
          "output_type": "stream",
          "text": [
            "[18,  4000] loss: 0.795\n"
          ]
        },
        {
          "name": "stderr",
          "output_type": "stream",
          "text": [
            "6005it [03:28, 29.00it/s]"
          ]
        },
        {
          "name": "stdout",
          "output_type": "stream",
          "text": [
            "[18,  6000] loss: 0.817\n"
          ]
        },
        {
          "name": "stderr",
          "output_type": "stream",
          "text": [
            "8003it [04:38, 27.85it/s]"
          ]
        },
        {
          "name": "stdout",
          "output_type": "stream",
          "text": [
            "[18,  8000] loss: 0.823\n"
          ]
        },
        {
          "name": "stderr",
          "output_type": "stream",
          "text": [
            "10004it [05:48, 28.48it/s]"
          ]
        },
        {
          "name": "stdout",
          "output_type": "stream",
          "text": [
            "[18, 10000] loss: 0.844\n"
          ]
        },
        {
          "name": "stderr",
          "output_type": "stream",
          "text": [
            "12003it [06:58, 28.16it/s]"
          ]
        },
        {
          "name": "stdout",
          "output_type": "stream",
          "text": [
            "[18, 12000] loss: 0.840\n"
          ]
        },
        {
          "name": "stderr",
          "output_type": "stream",
          "text": [
            "12500it [07:15, 28.69it/s]\n",
            "2002it [01:12, 30.10it/s]"
          ]
        },
        {
          "name": "stdout",
          "output_type": "stream",
          "text": [
            "[19,  2000] loss: 0.681\n"
          ]
        },
        {
          "name": "stderr",
          "output_type": "stream",
          "text": [
            "4004it [02:22, 29.83it/s]"
          ]
        },
        {
          "name": "stdout",
          "output_type": "stream",
          "text": [
            "[19,  4000] loss: 0.716\n"
          ]
        },
        {
          "name": "stderr",
          "output_type": "stream",
          "text": [
            "6005it [03:31, 30.26it/s]"
          ]
        },
        {
          "name": "stdout",
          "output_type": "stream",
          "text": [
            "[19,  6000] loss: 0.748\n"
          ]
        },
        {
          "name": "stderr",
          "output_type": "stream",
          "text": [
            "8004it [04:40, 30.26it/s]"
          ]
        },
        {
          "name": "stdout",
          "output_type": "stream",
          "text": [
            "[19,  8000] loss: 0.776\n"
          ]
        },
        {
          "name": "stderr",
          "output_type": "stream",
          "text": [
            "10004it [05:50, 30.23it/s]"
          ]
        },
        {
          "name": "stdout",
          "output_type": "stream",
          "text": [
            "[19, 10000] loss: 0.825\n"
          ]
        },
        {
          "name": "stderr",
          "output_type": "stream",
          "text": [
            "12004it [06:59, 28.81it/s]"
          ]
        },
        {
          "name": "stdout",
          "output_type": "stream",
          "text": [
            "[19, 12000] loss: 0.850\n"
          ]
        },
        {
          "name": "stderr",
          "output_type": "stream",
          "text": [
            "12500it [07:16, 28.63it/s]\n",
            "2003it [01:09, 26.92it/s]"
          ]
        },
        {
          "name": "stdout",
          "output_type": "stream",
          "text": [
            "[20,  2000] loss: 0.625\n"
          ]
        },
        {
          "name": "stderr",
          "output_type": "stream",
          "text": [
            "4004it [02:19, 27.83it/s]"
          ]
        },
        {
          "name": "stdout",
          "output_type": "stream",
          "text": [
            "[20,  4000] loss: 0.690\n"
          ]
        },
        {
          "name": "stderr",
          "output_type": "stream",
          "text": [
            "6004it [03:29, 30.75it/s]"
          ]
        },
        {
          "name": "stdout",
          "output_type": "stream",
          "text": [
            "[20,  6000] loss: 0.718\n"
          ]
        },
        {
          "name": "stderr",
          "output_type": "stream",
          "text": [
            "8003it [04:41, 29.86it/s]"
          ]
        },
        {
          "name": "stdout",
          "output_type": "stream",
          "text": [
            "[20,  8000] loss: 0.747\n"
          ]
        },
        {
          "name": "stderr",
          "output_type": "stream",
          "text": [
            "10004it [05:57, 28.50it/s]"
          ]
        },
        {
          "name": "stdout",
          "output_type": "stream",
          "text": [
            "[20, 10000] loss: 0.774\n"
          ]
        },
        {
          "name": "stderr",
          "output_type": "stream",
          "text": [
            "12002it [07:10, 25.03it/s]"
          ]
        },
        {
          "name": "stdout",
          "output_type": "stream",
          "text": [
            "[20, 12000] loss: 0.783\n"
          ]
        },
        {
          "name": "stderr",
          "output_type": "stream",
          "text": [
            "12500it [07:29, 27.79it/s]"
          ]
        },
        {
          "name": "stdout",
          "output_type": "stream",
          "text": [
            "Finished Training\n"
          ]
        },
        {
          "name": "stderr",
          "output_type": "stream",
          "text": [
            "\n"
          ]
        }
      ],
      "source": [
        "for epoch in range(20):  # loop over the dataset multiple times\n",
        "\n",
        "    running_loss = 0.0\n",
        "    for i, data in tqdm(enumerate(trainloader, 0)):\n",
        "        inputs, labels = data[0], data[1]\n",
        "        inputs = inputs.to(device)\n",
        "        labels = labels.to(device)\n",
        "        optimizer.zero_grad()\n",
        "        outputs = net(inputs)\n",
        "        loss = criterion(outputs, labels)\n",
        "        loss.backward()\n",
        "        optimizer.step()\n",
        "        running_loss += loss.item()\n",
        "        if i % 2000 == 1999:\n",
        "            print(f'[{epoch + 1}, {i + 1:5d}] loss: {running_loss / 2000:.3f}')\n",
        "            running_loss = 0.0\n",
        "\n",
        "print('Finished Training')"
      ]
    },
    {
      "cell_type": "code",
      "execution_count": 22,
      "metadata": {
        "id": "D7w5OFPlJsWp"
      },
      "outputs": [
        {
          "name": "stderr",
          "output_type": "stream",
          "text": [
            "2500it [00:40, 61.74it/s]"
          ]
        },
        {
          "name": "stdout",
          "output_type": "stream",
          "text": [
            "Test Loss: 1.477\n",
            "Test Accuracy: 54.04%\n"
          ]
        },
        {
          "name": "stderr",
          "output_type": "stream",
          "text": [
            "\n"
          ]
        },
        {
          "data": {
            "text/plain": [
              "Vision_Transformer(\n",
              "  (projection_layer): Projection_Layer(\n",
              "    (layer_norm_1): LayerNorm((192,), eps=1e-05, elementwise_affine=True)\n",
              "    (embed_layer): Linear(in_features=192, out_features=192, bias=True)\n",
              "    (layer_norm_2): LayerNorm((192,), eps=1e-05, elementwise_affine=True)\n",
              "  )\n",
              "  (layers): Sequential(\n",
              "    (0): Transformer_Block(\n",
              "      (norm): LayerNorm((192,), eps=1e-05, elementwise_affine=True)\n",
              "      (attn): Attention(\n",
              "        (Q_matrix): Linear(in_features=24, out_features=24, bias=True)\n",
              "        (K_matrix): Linear(in_features=24, out_features=24, bias=True)\n",
              "        (V_matrix): Linear(in_features=24, out_features=24, bias=True)\n",
              "      )\n",
              "      (MLP): Sequential(\n",
              "        (0): LayerNorm((192,), eps=1e-05, elementwise_affine=True)\n",
              "        (1): Linear(in_features=192, out_features=768, bias=True)\n",
              "        (2): GELU(approximate='none')\n",
              "        (3): Linear(in_features=768, out_features=192, bias=True)\n",
              "        (4): Dropout(p=0.01, inplace=False)\n",
              "      )\n",
              "    )\n",
              "    (1): Transformer_Block(\n",
              "      (norm): LayerNorm((192,), eps=1e-05, elementwise_affine=True)\n",
              "      (attn): Attention(\n",
              "        (Q_matrix): Linear(in_features=24, out_features=24, bias=True)\n",
              "        (K_matrix): Linear(in_features=24, out_features=24, bias=True)\n",
              "        (V_matrix): Linear(in_features=24, out_features=24, bias=True)\n",
              "      )\n",
              "      (MLP): Sequential(\n",
              "        (0): LayerNorm((192,), eps=1e-05, elementwise_affine=True)\n",
              "        (1): Linear(in_features=192, out_features=768, bias=True)\n",
              "        (2): GELU(approximate='none')\n",
              "        (3): Linear(in_features=768, out_features=192, bias=True)\n",
              "        (4): Dropout(p=0.01, inplace=False)\n",
              "      )\n",
              "    )\n",
              "    (2): Transformer_Block(\n",
              "      (norm): LayerNorm((192,), eps=1e-05, elementwise_affine=True)\n",
              "      (attn): Attention(\n",
              "        (Q_matrix): Linear(in_features=24, out_features=24, bias=True)\n",
              "        (K_matrix): Linear(in_features=24, out_features=24, bias=True)\n",
              "        (V_matrix): Linear(in_features=24, out_features=24, bias=True)\n",
              "      )\n",
              "      (MLP): Sequential(\n",
              "        (0): LayerNorm((192,), eps=1e-05, elementwise_affine=True)\n",
              "        (1): Linear(in_features=192, out_features=768, bias=True)\n",
              "        (2): GELU(approximate='none')\n",
              "        (3): Linear(in_features=768, out_features=192, bias=True)\n",
              "        (4): Dropout(p=0.01, inplace=False)\n",
              "      )\n",
              "    )\n",
              "    (3): Transformer_Block(\n",
              "      (norm): LayerNorm((192,), eps=1e-05, elementwise_affine=True)\n",
              "      (attn): Attention(\n",
              "        (Q_matrix): Linear(in_features=24, out_features=24, bias=True)\n",
              "        (K_matrix): Linear(in_features=24, out_features=24, bias=True)\n",
              "        (V_matrix): Linear(in_features=24, out_features=24, bias=True)\n",
              "      )\n",
              "      (MLP): Sequential(\n",
              "        (0): LayerNorm((192,), eps=1e-05, elementwise_affine=True)\n",
              "        (1): Linear(in_features=192, out_features=768, bias=True)\n",
              "        (2): GELU(approximate='none')\n",
              "        (3): Linear(in_features=768, out_features=192, bias=True)\n",
              "        (4): Dropout(p=0.01, inplace=False)\n",
              "      )\n",
              "    )\n",
              "    (4): Transformer_Block(\n",
              "      (norm): LayerNorm((192,), eps=1e-05, elementwise_affine=True)\n",
              "      (attn): Attention(\n",
              "        (Q_matrix): Linear(in_features=24, out_features=24, bias=True)\n",
              "        (K_matrix): Linear(in_features=24, out_features=24, bias=True)\n",
              "        (V_matrix): Linear(in_features=24, out_features=24, bias=True)\n",
              "      )\n",
              "      (MLP): Sequential(\n",
              "        (0): LayerNorm((192,), eps=1e-05, elementwise_affine=True)\n",
              "        (1): Linear(in_features=192, out_features=768, bias=True)\n",
              "        (2): GELU(approximate='none')\n",
              "        (3): Linear(in_features=768, out_features=192, bias=True)\n",
              "        (4): Dropout(p=0.01, inplace=False)\n",
              "      )\n",
              "    )\n",
              "    (5): Transformer_Block(\n",
              "      (norm): LayerNorm((192,), eps=1e-05, elementwise_affine=True)\n",
              "      (attn): Attention(\n",
              "        (Q_matrix): Linear(in_features=24, out_features=24, bias=True)\n",
              "        (K_matrix): Linear(in_features=24, out_features=24, bias=True)\n",
              "        (V_matrix): Linear(in_features=24, out_features=24, bias=True)\n",
              "      )\n",
              "      (MLP): Sequential(\n",
              "        (0): LayerNorm((192,), eps=1e-05, elementwise_affine=True)\n",
              "        (1): Linear(in_features=192, out_features=768, bias=True)\n",
              "        (2): GELU(approximate='none')\n",
              "        (3): Linear(in_features=768, out_features=192, bias=True)\n",
              "        (4): Dropout(p=0.01, inplace=False)\n",
              "      )\n",
              "    )\n",
              "    (6): Transformer_Block(\n",
              "      (norm): LayerNorm((192,), eps=1e-05, elementwise_affine=True)\n",
              "      (attn): Attention(\n",
              "        (Q_matrix): Linear(in_features=24, out_features=24, bias=True)\n",
              "        (K_matrix): Linear(in_features=24, out_features=24, bias=True)\n",
              "        (V_matrix): Linear(in_features=24, out_features=24, bias=True)\n",
              "      )\n",
              "      (MLP): Sequential(\n",
              "        (0): LayerNorm((192,), eps=1e-05, elementwise_affine=True)\n",
              "        (1): Linear(in_features=192, out_features=768, bias=True)\n",
              "        (2): GELU(approximate='none')\n",
              "        (3): Linear(in_features=768, out_features=192, bias=True)\n",
              "        (4): Dropout(p=0.01, inplace=False)\n",
              "      )\n",
              "    )\n",
              "    (7): Transformer_Block(\n",
              "      (norm): LayerNorm((192,), eps=1e-05, elementwise_affine=True)\n",
              "      (attn): Attention(\n",
              "        (Q_matrix): Linear(in_features=24, out_features=24, bias=True)\n",
              "        (K_matrix): Linear(in_features=24, out_features=24, bias=True)\n",
              "        (V_matrix): Linear(in_features=24, out_features=24, bias=True)\n",
              "      )\n",
              "      (MLP): Sequential(\n",
              "        (0): LayerNorm((192,), eps=1e-05, elementwise_affine=True)\n",
              "        (1): Linear(in_features=192, out_features=768, bias=True)\n",
              "        (2): GELU(approximate='none')\n",
              "        (3): Linear(in_features=768, out_features=192, bias=True)\n",
              "        (4): Dropout(p=0.01, inplace=False)\n",
              "      )\n",
              "    )\n",
              "    (8): Transformer_Block(\n",
              "      (norm): LayerNorm((192,), eps=1e-05, elementwise_affine=True)\n",
              "      (attn): Attention(\n",
              "        (Q_matrix): Linear(in_features=24, out_features=24, bias=True)\n",
              "        (K_matrix): Linear(in_features=24, out_features=24, bias=True)\n",
              "        (V_matrix): Linear(in_features=24, out_features=24, bias=True)\n",
              "      )\n",
              "      (MLP): Sequential(\n",
              "        (0): LayerNorm((192,), eps=1e-05, elementwise_affine=True)\n",
              "        (1): Linear(in_features=192, out_features=768, bias=True)\n",
              "        (2): GELU(approximate='none')\n",
              "        (3): Linear(in_features=768, out_features=192, bias=True)\n",
              "        (4): Dropout(p=0.01, inplace=False)\n",
              "      )\n",
              "    )\n",
              "    (9): Transformer_Block(\n",
              "      (norm): LayerNorm((192,), eps=1e-05, elementwise_affine=True)\n",
              "      (attn): Attention(\n",
              "        (Q_matrix): Linear(in_features=24, out_features=24, bias=True)\n",
              "        (K_matrix): Linear(in_features=24, out_features=24, bias=True)\n",
              "        (V_matrix): Linear(in_features=24, out_features=24, bias=True)\n",
              "      )\n",
              "      (MLP): Sequential(\n",
              "        (0): LayerNorm((192,), eps=1e-05, elementwise_affine=True)\n",
              "        (1): Linear(in_features=192, out_features=768, bias=True)\n",
              "        (2): GELU(approximate='none')\n",
              "        (3): Linear(in_features=768, out_features=192, bias=True)\n",
              "        (4): Dropout(p=0.01, inplace=False)\n",
              "      )\n",
              "    )\n",
              "    (10): Transformer_Block(\n",
              "      (norm): LayerNorm((192,), eps=1e-05, elementwise_affine=True)\n",
              "      (attn): Attention(\n",
              "        (Q_matrix): Linear(in_features=24, out_features=24, bias=True)\n",
              "        (K_matrix): Linear(in_features=24, out_features=24, bias=True)\n",
              "        (V_matrix): Linear(in_features=24, out_features=24, bias=True)\n",
              "      )\n",
              "      (MLP): Sequential(\n",
              "        (0): LayerNorm((192,), eps=1e-05, elementwise_affine=True)\n",
              "        (1): Linear(in_features=192, out_features=768, bias=True)\n",
              "        (2): GELU(approximate='none')\n",
              "        (3): Linear(in_features=768, out_features=192, bias=True)\n",
              "        (4): Dropout(p=0.01, inplace=False)\n",
              "      )\n",
              "    )\n",
              "    (11): Transformer_Block(\n",
              "      (norm): LayerNorm((192,), eps=1e-05, elementwise_affine=True)\n",
              "      (attn): Attention(\n",
              "        (Q_matrix): Linear(in_features=24, out_features=24, bias=True)\n",
              "        (K_matrix): Linear(in_features=24, out_features=24, bias=True)\n",
              "        (V_matrix): Linear(in_features=24, out_features=24, bias=True)\n",
              "      )\n",
              "      (MLP): Sequential(\n",
              "        (0): LayerNorm((192,), eps=1e-05, elementwise_affine=True)\n",
              "        (1): Linear(in_features=192, out_features=768, bias=True)\n",
              "        (2): GELU(approximate='none')\n",
              "        (3): Linear(in_features=768, out_features=192, bias=True)\n",
              "        (4): Dropout(p=0.01, inplace=False)\n",
              "      )\n",
              "    )\n",
              "  )\n",
              "  (clf_head): Linear(in_features=192, out_features=10, bias=True)\n",
              ")"
            ]
          },
          "execution_count": 22,
          "metadata": {},
          "output_type": "execute_result"
        }
      ],
      "source": [
        "net.eval()\n",
        "\n",
        "test_loss = 0.0\n",
        "correct = 0\n",
        "total = 0\n",
        "\n",
        "with torch.no_grad():\n",
        "    for i, data in tqdm(enumerate(testloader, 0)):\n",
        "        inputs, labels = data[0], data[1]\n",
        "        inputs = inputs.to(device)\n",
        "        labels = labels.to(device)\n",
        "        outputs = net(inputs)\n",
        "        loss = criterion(outputs, labels)\n",
        "        test_loss += loss.item()\n",
        "        _, predicted = torch.max(outputs, 1)\n",
        "        total += labels.size(0)\n",
        "        correct += (predicted == labels).sum().item()\n",
        "\n",
        "print(f'Test Loss: {test_loss / len(testloader):.3f}')\n",
        "print(f'Test Accuracy: {(100 * correct / total):.2f}%')\n",
        "\n",
        "net.train()"
      ]
    }
  ],
  "metadata": {
    "accelerator": "GPU",
    "colab": {
      "gpuType": "T4",
      "provenance": []
    },
    "kernelspec": {
      "display_name": "Python 3",
      "name": "python3"
    },
    "language_info": {
      "codemirror_mode": {
        "name": "ipython",
        "version": 3
      },
      "file_extension": ".py",
      "mimetype": "text/x-python",
      "name": "python",
      "nbconvert_exporter": "python",
      "pygments_lexer": "ipython3",
      "version": "3.12.2"
    }
  },
  "nbformat": 4,
  "nbformat_minor": 0
}
